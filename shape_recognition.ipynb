{
  "nbformat": 4,
  "nbformat_minor": 0,
  "metadata": {
    "colab": {
      "provenance": [],
      "authorship_tag": "ABX9TyNQo9h0WiIVq/KnxvcX/1nl"
    },
    "kernelspec": {
      "name": "python3",
      "display_name": "Python 3"
    },
    "language_info": {
      "name": "python"
    }
  },
  "cells": [
    {
      "cell_type": "code",
      "execution_count": null,
      "metadata": {
        "colab": {
          "base_uri": "https://localhost:8080/"
        },
        "id": "K3VQAKgVOsnZ",
        "outputId": "1c3bd090-3e26-416c-8abf-a0011fd7b0ed"
      },
      "outputs": [
        {
          "output_type": "stream",
          "name": "stdout",
          "text": [
            "Model accuracy: 50.00%\n",
            "The predicted shape for 4 sides is: Rectangle\n"
          ]
        }
      ],
      "source": [
        "import pandas as pd\n",
        "from sklearn.model_selection import train_test_split\n",
        "from sklearn.tree import DecisionTreeClassifier\n",
        "from sklearn.metrics import accuracy_score\n",
        "\n",
        "# Step 1: Create a dataset of shapes and their number of sides\n",
        "data = {\n",
        "    'Sides': [3, 4, 4, 5, 6, 8, 4, 6, 7],\n",
        "    'Shape': ['Triangle', 'Square', 'Rectangle', 'Pentagon', 'Hexagon', 'Octagon', 'Square', 'Hexagon', 'Heptagon']\n",
        "}\n",
        "\n",
        "# Step 2: Convert the data into a DataFrame\n",
        "df = pd.DataFrame(data)\n",
        "\n",
        "# Step 4: Prepare the features (X) and labels (y)\n",
        "X = df[['Sides']]  # Features (number of sides)\n",
        "y = df['Shape']  # Labels (shape names)\n",
        "\n",
        "# Step 5: Split the data into training and testing sets\n",
        "X_train, X_test, y_train, y_test = train_test_split(X, y, test_size=0.2, random_state=42)\n",
        "\n",
        "# Step 6: Train a Decision Tree Classifier\n",
        "model = DecisionTreeClassifier()\n",
        "model.fit(X_train, y_train)\n",
        "\n",
        "# Step 7: Make predictions on the test data\n",
        "y_pred = model.predict(X_test)\n",
        "\n",
        "# Step 8: Evaluate the model's accuracy\n",
        "accuracy = accuracy_score(y_test, y_pred)\n",
        "print(f\"Model accuracy: {accuracy * 100:.2f}%\")\n",
        "\n",
        "# Step 9: Predict the shape for a new input (example: 3 sides)\n",
        "new_shape = 4  # Let's predict for a shape with 3 sides\n",
        "new_data = pd.DataFrame([[new_shape]], columns=['Sides'])  # Ensure input is in DataFrame format\n",
        "predicted_shape = model.predict(new_data)  # Model prediction\n",
        "print(f\"The predicted shape for {new_shape} sides is: {predicted_shape[0]}\")\n"
      ]
    }
  ]
}