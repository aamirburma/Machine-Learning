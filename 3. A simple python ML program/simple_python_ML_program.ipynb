{
 "cells": [
  {
   "cell_type": "code",
   "execution_count": 8,
   "metadata": {},
   "outputs": [
    {
     "name": "stdout",
     "output_type": "stream",
     "text": [
      "Accuracy :  0.9777777777777777\n"
     ]
    }
   ],
   "source": [
    "# Import necessary libraries from scikit-learn\n",
    "from sklearn.datasets import load_iris  # For loading the iris dataset\n",
    "from sklearn.model_selection import train_test_split  # For splitting the dataset into training and testing sets\n",
    "from sklearn.tree import DecisionTreeClassifier  # For creating the Decision Tree model\n",
    "from sklearn.metrics import accuracy_score  # For calculating the accuracy of the model\n",
    "\n",
    "# Step 1: Load the Iris dataset\n",
    "data = load_iris()  # The load_iris() function returns the dataset as a dictionary-like object\n",
    "\n",
    "# Step 2: Split the data into training and testing sets\n",
    "# X represents the features (inputs), and y represents the target variable (output)\n",
    "X_train, X_test, y_train, y_test = train_test_split(data.data, data.target, test_size=0.3, random_state=42)\n",
    "\n",
    "# Step 3: Create a Decision Tree model\n",
    "model = DecisionTreeClassifier()  # Initialize the Decision Tree Classifier model\n",
    "\n",
    "# Step 4: Train the model using the training data\n",
    "model.fit(X_train, y_train)  # Fit the model to the training data (X_train and y_train)\n",
    "\n",
    "# Step 5: Make predictions on the testing data\n",
    "predictions = model.predict(X_test)  # Predict the target values for the test dataset (X_test)\n",
    "\n",
    "# Step 6: Evaluate the model's performance by calculating its accuracy\n",
    "accuracy = accuracy_score(y_test, predictions)  # Compare the predicted values with the true labels (y_test)\n",
    "\n",
    "# Step 7: Output the accuracy score\n",
    "print(\"Accuracy: \", accuracy)  # Print the accuracy score to evaluate how well the model performed\n"
   ]
  }
 ],
 "metadata": {
  "kernelspec": {
   "display_name": "Python 3",
   "language": "python",
   "name": "python3"
  },
  "language_info": {
   "codemirror_mode": {
    "name": "ipython",
    "version": 3
   },
   "file_extension": ".py",
   "mimetype": "text/x-python",
   "name": "python",
   "nbconvert_exporter": "python",
   "pygments_lexer": "ipython3",
   "version": "3.9.4"
  }
 },
 "nbformat": 4,
 "nbformat_minor": 2
}
